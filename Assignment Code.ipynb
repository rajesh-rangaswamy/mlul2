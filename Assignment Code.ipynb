{
 "cells": [
  {
   "cell_type": "markdown",
   "metadata": {},
   "source": [
    "The Source of data is kaggle and data can be downloaded from the kaggle link \"https://www.kaggle.com/c/msdchallenge/data\""
   ]
  },
  {
   "cell_type": "code",
   "execution_count": 71,
   "metadata": {},
   "outputs": [],
   "source": [
    "#importing necessary libraries needed for Exploratory Data Visualization\n",
    "import pandas as pd\n",
    "import numpy as np\n",
    "import matplotlib.pyplot as plt\n",
    "import seaborn as sns\n",
    "pd.set_option('display.max_rows', 500)\n",
    "pd.set_option('display.max_columns', 500)"
   ]
  },
  {
   "cell_type": "markdown",
   "metadata": {},
   "source": [
    "reading the data that have details of the songs"
   ]
  },
  {
   "cell_type": "code",
   "execution_count": 2,
   "metadata": {},
   "outputs": [],
   "source": [
    "songs = pd.read_csv('C:/Users/Pundareek/Downloads/ISB/Residency 4/ML UL 2/Million Song Dataset/kaggle_songs.txt', sep=\" \", header=None)\n",
    "songs.columns = [\"Song-Id\", \"SLNO\"]"
   ]
  },
  {
   "cell_type": "code",
   "execution_count": 3,
   "metadata": {},
   "outputs": [
    {
     "data": {
      "text/html": [
       "<div>\n",
       "<style scoped>\n",
       "    .dataframe tbody tr th:only-of-type {\n",
       "        vertical-align: middle;\n",
       "    }\n",
       "\n",
       "    .dataframe tbody tr th {\n",
       "        vertical-align: top;\n",
       "    }\n",
       "\n",
       "    .dataframe thead th {\n",
       "        text-align: right;\n",
       "    }\n",
       "</style>\n",
       "<table border=\"1\" class=\"dataframe\">\n",
       "  <thead>\n",
       "    <tr style=\"text-align: right;\">\n",
       "      <th></th>\n",
       "      <th>Song-Id</th>\n",
       "      <th>SLNO</th>\n",
       "    </tr>\n",
       "  </thead>\n",
       "  <tbody>\n",
       "    <tr>\n",
       "      <th>0</th>\n",
       "      <td>SOAAADD12AB018A9DD</td>\n",
       "      <td>1</td>\n",
       "    </tr>\n",
       "    <tr>\n",
       "      <th>1</th>\n",
       "      <td>SOAAADE12A6D4F80CC</td>\n",
       "      <td>2</td>\n",
       "    </tr>\n",
       "    <tr>\n",
       "      <th>2</th>\n",
       "      <td>SOAAADF12A8C13DF62</td>\n",
       "      <td>3</td>\n",
       "    </tr>\n",
       "    <tr>\n",
       "      <th>3</th>\n",
       "      <td>SOAAADZ12A8C1334FB</td>\n",
       "      <td>4</td>\n",
       "    </tr>\n",
       "    <tr>\n",
       "      <th>4</th>\n",
       "      <td>SOAAAFI12A6D4F9C66</td>\n",
       "      <td>5</td>\n",
       "    </tr>\n",
       "  </tbody>\n",
       "</table>\n",
       "</div>"
      ],
      "text/plain": [
       "              Song-Id  SLNO\n",
       "0  SOAAADD12AB018A9DD     1\n",
       "1  SOAAADE12A6D4F80CC     2\n",
       "2  SOAAADF12A8C13DF62     3\n",
       "3  SOAAADZ12A8C1334FB     4\n",
       "4  SOAAAFI12A6D4F9C66     5"
      ]
     },
     "execution_count": 3,
     "metadata": {},
     "output_type": "execute_result"
    }
   ],
   "source": [
    "songs.head(5)"
   ]
  },
  {
   "cell_type": "code",
   "execution_count": 4,
   "metadata": {},
   "outputs": [
    {
     "data": {
      "text/plain": [
       "Song-Id    386213\n",
       "SLNO       386213\n",
       "dtype: int64"
      ]
     },
     "execution_count": 4,
     "metadata": {},
     "output_type": "execute_result"
    }
   ],
   "source": [
    "songs.count()"
   ]
  },
  {
   "cell_type": "markdown",
   "metadata": {},
   "source": [
    "as we could see above total 386213 songs are listed in the songs data set"
   ]
  },
  {
   "cell_type": "code",
   "execution_count": 5,
   "metadata": {},
   "outputs": [],
   "source": [
    "songs.drop('SLNO',inplace=True,axis=1)"
   ]
  },
  {
   "cell_type": "code",
   "execution_count": 6,
   "metadata": {
    "scrolled": true
   },
   "outputs": [
    {
     "data": {
      "text/html": [
       "<div>\n",
       "<style scoped>\n",
       "    .dataframe tbody tr th:only-of-type {\n",
       "        vertical-align: middle;\n",
       "    }\n",
       "\n",
       "    .dataframe tbody tr th {\n",
       "        vertical-align: top;\n",
       "    }\n",
       "\n",
       "    .dataframe thead th {\n",
       "        text-align: right;\n",
       "    }\n",
       "</style>\n",
       "<table border=\"1\" class=\"dataframe\">\n",
       "  <thead>\n",
       "    <tr style=\"text-align: right;\">\n",
       "      <th></th>\n",
       "      <th>Song-Id</th>\n",
       "    </tr>\n",
       "  </thead>\n",
       "  <tbody>\n",
       "    <tr>\n",
       "      <th>0</th>\n",
       "      <td>SOAAADD12AB018A9DD</td>\n",
       "    </tr>\n",
       "    <tr>\n",
       "      <th>1</th>\n",
       "      <td>SOAAADE12A6D4F80CC</td>\n",
       "    </tr>\n",
       "    <tr>\n",
       "      <th>2</th>\n",
       "      <td>SOAAADF12A8C13DF62</td>\n",
       "    </tr>\n",
       "    <tr>\n",
       "      <th>3</th>\n",
       "      <td>SOAAADZ12A8C1334FB</td>\n",
       "    </tr>\n",
       "    <tr>\n",
       "      <th>4</th>\n",
       "      <td>SOAAAFI12A6D4F9C66</td>\n",
       "    </tr>\n",
       "  </tbody>\n",
       "</table>\n",
       "</div>"
      ],
      "text/plain": [
       "              Song-Id\n",
       "0  SOAAADD12AB018A9DD\n",
       "1  SOAAADE12A6D4F80CC\n",
       "2  SOAAADF12A8C13DF62\n",
       "3  SOAAADZ12A8C1334FB\n",
       "4  SOAAAFI12A6D4F9C66"
      ]
     },
     "execution_count": 6,
     "metadata": {},
     "output_type": "execute_result"
    }
   ],
   "source": [
    "songs.head(5)"
   ]
  },
  {
   "cell_type": "markdown",
   "metadata": {},
   "source": [
    "reading users details"
   ]
  },
  {
   "cell_type": "code",
   "execution_count": 7,
   "metadata": {},
   "outputs": [],
   "source": [
    "users = pd.read_csv('C:/Users/Pundareek/Downloads/ISB/Residency 4/ML UL 2/Million Song Dataset/kaggle_users.txt', sep=\" \", header=None)\n",
    "users.columns = [\"User-Id\"]"
   ]
  },
  {
   "cell_type": "code",
   "execution_count": 8,
   "metadata": {
    "scrolled": true
   },
   "outputs": [
    {
     "data": {
      "text/html": [
       "<div>\n",
       "<style scoped>\n",
       "    .dataframe tbody tr th:only-of-type {\n",
       "        vertical-align: middle;\n",
       "    }\n",
       "\n",
       "    .dataframe tbody tr th {\n",
       "        vertical-align: top;\n",
       "    }\n",
       "\n",
       "    .dataframe thead th {\n",
       "        text-align: right;\n",
       "    }\n",
       "</style>\n",
       "<table border=\"1\" class=\"dataframe\">\n",
       "  <thead>\n",
       "    <tr style=\"text-align: right;\">\n",
       "      <th></th>\n",
       "      <th>User-Id</th>\n",
       "    </tr>\n",
       "  </thead>\n",
       "  <tbody>\n",
       "    <tr>\n",
       "      <th>0</th>\n",
       "      <td>fd50c4007b68a3737fe052d5a4f78ce8aa117f3d</td>\n",
       "    </tr>\n",
       "    <tr>\n",
       "      <th>1</th>\n",
       "      <td>d7083f5e1d50c264277d624340edaaf3dc16095b</td>\n",
       "    </tr>\n",
       "    <tr>\n",
       "      <th>2</th>\n",
       "      <td>d68dc6fc25248234590d7668a11e3335534ae4b4</td>\n",
       "    </tr>\n",
       "    <tr>\n",
       "      <th>3</th>\n",
       "      <td>9be82340a8b5ef32357fe5af957ccd54736ece95</td>\n",
       "    </tr>\n",
       "    <tr>\n",
       "      <th>4</th>\n",
       "      <td>841b2394ae3a9febbd6b06497b4a8ee8eb24b7f8</td>\n",
       "    </tr>\n",
       "  </tbody>\n",
       "</table>\n",
       "</div>"
      ],
      "text/plain": [
       "                                    User-Id\n",
       "0  fd50c4007b68a3737fe052d5a4f78ce8aa117f3d\n",
       "1  d7083f5e1d50c264277d624340edaaf3dc16095b\n",
       "2  d68dc6fc25248234590d7668a11e3335534ae4b4\n",
       "3  9be82340a8b5ef32357fe5af957ccd54736ece95\n",
       "4  841b2394ae3a9febbd6b06497b4a8ee8eb24b7f8"
      ]
     },
     "execution_count": 8,
     "metadata": {},
     "output_type": "execute_result"
    }
   ],
   "source": [
    "users.head(5)"
   ]
  },
  {
   "cell_type": "markdown",
   "metadata": {},
   "source": [
    "Reading data that have details of SONG-USER-COUNT of time the song is been listened/"
   ]
  },
  {
   "cell_type": "code",
   "execution_count": 9,
   "metadata": {},
   "outputs": [],
   "source": [
    "listen = pd.read_csv('C:/Users/Pundareek/Downloads/ISB/Residency 4/ML UL 2/Million Song Dataset/kaggle_visible_evaluation_triplets.txt', sep=\"\\t\", header=None)\n",
    "listen.columns = [\"User-Id\",\"Song-Id\",\"ListenCount\"]"
   ]
  },
  {
   "cell_type": "code",
   "execution_count": 10,
   "metadata": {},
   "outputs": [
    {
     "data": {
      "text/plain": [
       "923"
      ]
     },
     "execution_count": 10,
     "metadata": {},
     "output_type": "execute_result"
    }
   ],
   "source": [
    "listen['ListenCount'].max()"
   ]
  },
  {
   "cell_type": "markdown",
   "metadata": {},
   "source": [
    "as we could see above a song for max is listened by 923 times by a user."
   ]
  },
  {
   "cell_type": "markdown",
   "metadata": {},
   "source": [
    "# EDA on the dataset"
   ]
  },
  {
   "cell_type": "markdown",
   "metadata": {},
   "source": [
    "Plotting and seeing how many different songs are been listeened by a user."
   ]
  },
  {
   "cell_type": "code",
   "execution_count": 11,
   "metadata": {
    "scrolled": false
   },
   "outputs": [
    {
     "data": {
      "text/plain": [
       "<matplotlib.axes._subplots.AxesSubplot at 0x1d3ed3a7160>"
      ]
     },
     "execution_count": 11,
     "metadata": {},
     "output_type": "execute_result"
    },
    {
     "data": {
      "image/png": "[encoded data removed]",
      "text/plain": [
       "<Figure size 576x576 with 1 Axes>"
      ]
     },
     "metadata": {
      "needs_background": "light"
     },
     "output_type": "display_data"
    }
   ],
   "source": [
    "plt.figure(figsize=(8,8))\n",
    "listen_user = listen.groupby('User-Id').size()\n",
    "listen_user.plot(kind='line',stacked=True, title= 'different songs listened by a user')"
   ]
  },
  {
   "cell_type": "code",
   "execution_count": 12,
   "metadata": {},
   "outputs": [],
   "source": [
    "listen_user = listen.groupby('User-Id').size().reset_index(name = 'occur')"
   ]
  },
  {
   "cell_type": "code",
   "execution_count": 13,
   "metadata": {},
   "outputs": [
    {
     "data": {
      "text/html": [
       "<div>\n",
       "<style scoped>\n",
       "    .dataframe tbody tr th:only-of-type {\n",
       "        vertical-align: middle;\n",
       "    }\n",
       "\n",
       "    .dataframe tbody tr th {\n",
       "        vertical-align: top;\n",
       "    }\n",
       "\n",
       "    .dataframe thead th {\n",
       "        text-align: right;\n",
       "    }\n",
       "</style>\n",
       "<table border=\"1\" class=\"dataframe\">\n",
       "  <thead>\n",
       "    <tr style=\"text-align: right;\">\n",
       "      <th></th>\n",
       "      <th>User-Id</th>\n",
       "      <th>occur</th>\n",
       "    </tr>\n",
       "  </thead>\n",
       "  <tbody>\n",
       "    <tr>\n",
       "      <th>0</th>\n",
       "      <td>00007a02388c208ea7176479f6ae06f8224355b3</td>\n",
       "      <td>9</td>\n",
       "    </tr>\n",
       "    <tr>\n",
       "      <th>1</th>\n",
       "      <td>00014a76ed063e1a749171a253bca9d9a0ff1782</td>\n",
       "      <td>11</td>\n",
       "    </tr>\n",
       "    <tr>\n",
       "      <th>2</th>\n",
       "      <td>00015189668691680bb1a2e58afde1541ec92ced</td>\n",
       "      <td>17</td>\n",
       "    </tr>\n",
       "    <tr>\n",
       "      <th>3</th>\n",
       "      <td>0001ff7aa2667c8d8b945317b88adaed1c0b9dc2</td>\n",
       "      <td>9</td>\n",
       "    </tr>\n",
       "    <tr>\n",
       "      <th>4</th>\n",
       "      <td>00020fcd8b01986a6a85b896ccde6c49f35142ad</td>\n",
       "      <td>32</td>\n",
       "    </tr>\n",
       "  </tbody>\n",
       "</table>\n",
       "</div>"
      ],
      "text/plain": [
       "                                    User-Id  occur\n",
       "0  00007a02388c208ea7176479f6ae06f8224355b3      9\n",
       "1  00014a76ed063e1a749171a253bca9d9a0ff1782     11\n",
       "2  00015189668691680bb1a2e58afde1541ec92ced     17\n",
       "3  0001ff7aa2667c8d8b945317b88adaed1c0b9dc2      9\n",
       "4  00020fcd8b01986a6a85b896ccde6c49f35142ad     32"
      ]
     },
     "execution_count": 13,
     "metadata": {},
     "output_type": "execute_result"
    }
   ],
   "source": [
    "listen_user.head()"
   ]
  },
  {
   "cell_type": "code",
   "execution_count": 14,
   "metadata": {},
   "outputs": [],
   "source": [
    "listen_user=listen_user.sort_values(by='occur', ascending=False)"
   ]
  },
  {
   "cell_type": "markdown",
   "metadata": {},
   "source": [
    "Displaying the data in tabular format, and could see and observe that user \"7d90be8dfdbde170f036ce8a4b915440137cb11c\", \n",
    "had listened maximum on 53 different songs"
   ]
  },
  {
   "cell_type": "code",
   "execution_count": 15,
   "metadata": {
    "scrolled": true
   },
   "outputs": [
    {
     "data": {
      "text/html": [
       "<div>\n",
       "<style scoped>\n",
       "    .dataframe tbody tr th:only-of-type {\n",
       "        vertical-align: middle;\n",
       "    }\n",
       "\n",
       "    .dataframe tbody tr th {\n",
       "        vertical-align: top;\n",
       "    }\n",
       "\n",
       "    .dataframe thead th {\n",
       "        text-align: right;\n",
       "    }\n",
       "</style>\n",
       "<table border=\"1\" class=\"dataframe\">\n",
       "  <thead>\n",
       "    <tr style=\"text-align: right;\">\n",
       "      <th></th>\n",
       "      <th>User-Id</th>\n",
       "      <th>occur</th>\n",
       "    </tr>\n",
       "  </thead>\n",
       "  <tbody>\n",
       "    <tr>\n",
       "      <th>53921</th>\n",
       "      <td>7d90be8dfdbde170f036ce8a4b915440137cb11c</td>\n",
       "      <td>53</td>\n",
       "    </tr>\n",
       "    <tr>\n",
       "      <th>90678</th>\n",
       "      <td>d30e18323f15426c3cdc8585252ed34459916f51</td>\n",
       "      <td>52</td>\n",
       "    </tr>\n",
       "    <tr>\n",
       "      <th>1597</th>\n",
       "      <td>03ad93fdb01506ce205f4708decf8e4b1ae90fff</td>\n",
       "      <td>52</td>\n",
       "    </tr>\n",
       "    <tr>\n",
       "      <th>19962</th>\n",
       "      <td>2e424b28bff1f62a2dae22a918f09f9c30c06d1b</td>\n",
       "      <td>52</td>\n",
       "    </tr>\n",
       "    <tr>\n",
       "      <th>643</th>\n",
       "      <td>016a24e91a72c159a5048ab1b9b2ba5ce761b526</td>\n",
       "      <td>52</td>\n",
       "    </tr>\n",
       "    <tr>\n",
       "      <th>6694</th>\n",
       "      <td>0f8308935bcbb9a1e04ebb7c4d41c037e5f23b90</td>\n",
       "      <td>52</td>\n",
       "    </tr>\n",
       "    <tr>\n",
       "      <th>96486</th>\n",
       "      <td>e08848e92427e9ef8add59a1264c484e1078d5a5</td>\n",
       "      <td>51</td>\n",
       "    </tr>\n",
       "    <tr>\n",
       "      <th>64941</th>\n",
       "      <td>9769ebffc543fa42b58daf6f52f8816abf5f408e</td>\n",
       "      <td>51</td>\n",
       "    </tr>\n",
       "    <tr>\n",
       "      <th>54171</th>\n",
       "      <td>7e27789eae69bc946c51833c0b833a49c58ed9ed</td>\n",
       "      <td>51</td>\n",
       "    </tr>\n",
       "    <tr>\n",
       "      <th>65684</th>\n",
       "      <td>992fea335363e87217e1b052fd7380b3fd7e35b4</td>\n",
       "      <td>51</td>\n",
       "    </tr>\n",
       "    <tr>\n",
       "      <th>100331</th>\n",
       "      <td>e99ef008f893efd071a7a77be6f1e8d23b962278</td>\n",
       "      <td>51</td>\n",
       "    </tr>\n",
       "    <tr>\n",
       "      <th>21323</th>\n",
       "      <td>316110734d8da7478cc33237458814f770a9eb7a</td>\n",
       "      <td>51</td>\n",
       "    </tr>\n",
       "    <tr>\n",
       "      <th>13619</th>\n",
       "      <td>1fb619ced83fb4f92d4098709d7331b30e5e691c</td>\n",
       "      <td>50</td>\n",
       "    </tr>\n",
       "    <tr>\n",
       "      <th>53975</th>\n",
       "      <td>7db2077964762a3889dd4d61444a8ba254b6365d</td>\n",
       "      <td>50</td>\n",
       "    </tr>\n",
       "    <tr>\n",
       "      <th>66537</th>\n",
       "      <td>9b0f827c8bad0cf089b0d778307e1b390f463730</td>\n",
       "      <td>50</td>\n",
       "    </tr>\n",
       "    <tr>\n",
       "      <th>86980</th>\n",
       "      <td>ca885bed5d391ccc0fda84e8eb4441e005f68bcd</td>\n",
       "      <td>50</td>\n",
       "    </tr>\n",
       "    <tr>\n",
       "      <th>74342</th>\n",
       "      <td>ad4b2717e89766b66b96fe52a38736116e315874</td>\n",
       "      <td>50</td>\n",
       "    </tr>\n",
       "    <tr>\n",
       "      <th>85687</th>\n",
       "      <td>c77574174ffe7118d90ac95c6671ff840858806a</td>\n",
       "      <td>50</td>\n",
       "    </tr>\n",
       "    <tr>\n",
       "      <th>78924</th>\n",
       "      <td>b7bc5c9ea762079424d014c1b4e05e1d65d68861</td>\n",
       "      <td>50</td>\n",
       "    </tr>\n",
       "    <tr>\n",
       "      <th>79643</th>\n",
       "      <td>b976263ea6b444c431759549a75b3650c66183a6</td>\n",
       "      <td>50</td>\n",
       "    </tr>\n",
       "  </tbody>\n",
       "</table>\n",
       "</div>"
      ],
      "text/plain": [
       "                                         User-Id  occur\n",
       "53921   7d90be8dfdbde170f036ce8a4b915440137cb11c     53\n",
       "90678   d30e18323f15426c3cdc8585252ed34459916f51     52\n",
       "1597    03ad93fdb01506ce205f4708decf8e4b1ae90fff     52\n",
       "19962   2e424b28bff1f62a2dae22a918f09f9c30c06d1b     52\n",
       "643     016a24e91a72c159a5048ab1b9b2ba5ce761b526     52\n",
       "6694    0f8308935bcbb9a1e04ebb7c4d41c037e5f23b90     52\n",
       "96486   e08848e92427e9ef8add59a1264c484e1078d5a5     51\n",
       "64941   9769ebffc543fa42b58daf6f52f8816abf5f408e     51\n",
       "54171   7e27789eae69bc946c51833c0b833a49c58ed9ed     51\n",
       "65684   992fea335363e87217e1b052fd7380b3fd7e35b4     51\n",
       "100331  e99ef008f893efd071a7a77be6f1e8d23b962278     51\n",
       "21323   316110734d8da7478cc33237458814f770a9eb7a     51\n",
       "13619   1fb619ced83fb4f92d4098709d7331b30e5e691c     50\n",
       "53975   7db2077964762a3889dd4d61444a8ba254b6365d     50\n",
       "66537   9b0f827c8bad0cf089b0d778307e1b390f463730     50\n",
       "86980   ca885bed5d391ccc0fda84e8eb4441e005f68bcd     50\n",
       "74342   ad4b2717e89766b66b96fe52a38736116e315874     50\n",
       "85687   c77574174ffe7118d90ac95c6671ff840858806a     50\n",
       "78924   b7bc5c9ea762079424d014c1b4e05e1d65d68861     50\n",
       "79643   b976263ea6b444c431759549a75b3650c66183a6     50"
      ]
     },
     "execution_count": 15,
     "metadata": {},
     "output_type": "execute_result"
    }
   ],
   "source": [
    "listen_user.head(20)"
   ]
  },
  {
   "cell_type": "markdown",
   "metadata": {},
   "source": [
    "for our recommentation system we are only selecting users those have listened to more than 30 songs"
   ]
  },
  {
   "cell_type": "code",
   "execution_count": 17,
   "metadata": {
    "scrolled": true
   },
   "outputs": [],
   "source": [
    "listen_user = listen_user[(listen_user.occur >= 30)]"
   ]
  },
  {
   "cell_type": "code",
   "execution_count": 18,
   "metadata": {},
   "outputs": [
    {
     "data": {
      "text/html": [
       "<div>\n",
       "<style scoped>\n",
       "    .dataframe tbody tr th:only-of-type {\n",
       "        vertical-align: middle;\n",
       "    }\n",
       "\n",
       "    .dataframe tbody tr th {\n",
       "        vertical-align: top;\n",
       "    }\n",
       "\n",
       "    .dataframe thead th {\n",
       "        text-align: right;\n",
       "    }\n",
       "</style>\n",
       "<table border=\"1\" class=\"dataframe\">\n",
       "  <thead>\n",
       "    <tr style=\"text-align: right;\">\n",
       "      <th></th>\n",
       "      <th>User-Id</th>\n",
       "      <th>occur</th>\n",
       "    </tr>\n",
       "  </thead>\n",
       "  <tbody>\n",
       "    <tr>\n",
       "      <th>53921</th>\n",
       "      <td>7d90be8dfdbde170f036ce8a4b915440137cb11c</td>\n",
       "      <td>53</td>\n",
       "    </tr>\n",
       "    <tr>\n",
       "      <th>90678</th>\n",
       "      <td>d30e18323f15426c3cdc8585252ed34459916f51</td>\n",
       "      <td>52</td>\n",
       "    </tr>\n",
       "    <tr>\n",
       "      <th>1597</th>\n",
       "      <td>03ad93fdb01506ce205f4708decf8e4b1ae90fff</td>\n",
       "      <td>52</td>\n",
       "    </tr>\n",
       "    <tr>\n",
       "      <th>19962</th>\n",
       "      <td>2e424b28bff1f62a2dae22a918f09f9c30c06d1b</td>\n",
       "      <td>52</td>\n",
       "    </tr>\n",
       "    <tr>\n",
       "      <th>643</th>\n",
       "      <td>016a24e91a72c159a5048ab1b9b2ba5ce761b526</td>\n",
       "      <td>52</td>\n",
       "    </tr>\n",
       "  </tbody>\n",
       "</table>\n",
       "</div>"
      ],
      "text/plain": [
       "                                        User-Id  occur\n",
       "53921  7d90be8dfdbde170f036ce8a4b915440137cb11c     53\n",
       "90678  d30e18323f15426c3cdc8585252ed34459916f51     52\n",
       "1597   03ad93fdb01506ce205f4708decf8e4b1ae90fff     52\n",
       "19962  2e424b28bff1f62a2dae22a918f09f9c30c06d1b     52\n",
       "643    016a24e91a72c159a5048ab1b9b2ba5ce761b526     52"
      ]
     },
     "execution_count": 18,
     "metadata": {},
     "output_type": "execute_result"
    }
   ],
   "source": [
    "listen_user.head(5)"
   ]
  },
  {
   "cell_type": "code",
   "execution_count": 19,
   "metadata": {},
   "outputs": [],
   "source": [
    "listen_user.drop('occur',inplace=True,axis=1)"
   ]
  },
  {
   "cell_type": "code",
   "execution_count": 20,
   "metadata": {
    "scrolled": false
   },
   "outputs": [
    {
     "data": {
      "text/html": [
       "<div>\n",
       "<style scoped>\n",
       "    .dataframe tbody tr th:only-of-type {\n",
       "        vertical-align: middle;\n",
       "    }\n",
       "\n",
       "    .dataframe tbody tr th {\n",
       "        vertical-align: top;\n",
       "    }\n",
       "\n",
       "    .dataframe thead th {\n",
       "        text-align: right;\n",
       "    }\n",
       "</style>\n",
       "<table border=\"1\" class=\"dataframe\">\n",
       "  <thead>\n",
       "    <tr style=\"text-align: right;\">\n",
       "      <th></th>\n",
       "      <th>User-Id</th>\n",
       "    </tr>\n",
       "  </thead>\n",
       "  <tbody>\n",
       "    <tr>\n",
       "      <th>53921</th>\n",
       "      <td>7d90be8dfdbde170f036ce8a4b915440137cb11c</td>\n",
       "    </tr>\n",
       "    <tr>\n",
       "      <th>90678</th>\n",
       "      <td>d30e18323f15426c3cdc8585252ed34459916f51</td>\n",
       "    </tr>\n",
       "    <tr>\n",
       "      <th>1597</th>\n",
       "      <td>03ad93fdb01506ce205f4708decf8e4b1ae90fff</td>\n",
       "    </tr>\n",
       "    <tr>\n",
       "      <th>19962</th>\n",
       "      <td>2e424b28bff1f62a2dae22a918f09f9c30c06d1b</td>\n",
       "    </tr>\n",
       "    <tr>\n",
       "      <th>643</th>\n",
       "      <td>016a24e91a72c159a5048ab1b9b2ba5ce761b526</td>\n",
       "    </tr>\n",
       "  </tbody>\n",
       "</table>\n",
       "</div>"
      ],
      "text/plain": [
       "                                        User-Id\n",
       "53921  7d90be8dfdbde170f036ce8a4b915440137cb11c\n",
       "90678  d30e18323f15426c3cdc8585252ed34459916f51\n",
       "1597   03ad93fdb01506ce205f4708decf8e4b1ae90fff\n",
       "19962  2e424b28bff1f62a2dae22a918f09f9c30c06d1b\n",
       "643    016a24e91a72c159a5048ab1b9b2ba5ce761b526"
      ]
     },
     "execution_count": 20,
     "metadata": {},
     "output_type": "execute_result"
    }
   ],
   "source": [
    "listen_user.head(5)"
   ]
  },
  {
   "cell_type": "markdown",
   "metadata": {},
   "source": [
    "total 5953 users are been considered for creating the recommendation system."
   ]
  },
  {
   "cell_type": "code",
   "execution_count": 21,
   "metadata": {},
   "outputs": [
    {
     "data": {
      "text/plain": [
       "User-Id    5953\n",
       "dtype: int64"
      ]
     },
     "execution_count": 21,
     "metadata": {},
     "output_type": "execute_result"
    }
   ],
   "source": [
    "listen_user.count()"
   ]
  },
  {
   "cell_type": "code",
   "execution_count": 22,
   "metadata": {
    "scrolled": false
   },
   "outputs": [
    {
     "data": {
      "text/plain": [
       "<matplotlib.axes._subplots.AxesSubplot at 0x1d3eca67e48>"
      ]
     },
     "execution_count": 22,
     "metadata": {},
     "output_type": "execute_result"
    },
    {
     "data": {
      "image/png": "[encoded data removed]",
      "text/plain": [
       "<Figure size 576x576 with 1 Axes>"
      ]
     },
     "metadata": {
      "needs_background": "light"
     },
     "output_type": "display_data"
    }
   ],
   "source": [
    "plt.figure(figsize=(8,8))\n",
    "listen_song = listen.groupby('Song-Id').size()\n",
    "listen_song.plot(kind='line',stacked=True, title= 'different users by a song ')"
   ]
  },
  {
   "cell_type": "code",
   "execution_count": 23,
   "metadata": {},
   "outputs": [],
   "source": [
    "listen_song = listen.groupby('Song-Id').size().reset_index(name = 'occur')"
   ]
  },
  {
   "cell_type": "code",
   "execution_count": 24,
   "metadata": {},
   "outputs": [],
   "source": [
    "listen_song=listen_song.sort_values(by='occur', ascending=False)"
   ]
  },
  {
   "cell_type": "markdown",
   "metadata": {},
   "source": [
    "Below is the list of top 20 songs most favourite songs, the song \"7d90be8dfdbde170f036ce8a4b915440137cb11c\", is listened by 5043 users.\n",
    "For a user who is new to the system can be recommeneded with this most favourite rong list."
   ]
  },
  {
   "cell_type": "code",
   "execution_count": 25,
   "metadata": {
    "scrolled": true
   },
   "outputs": [
    {
     "data": {
      "text/html": [
       "<div>\n",
       "<style scoped>\n",
       "    .dataframe tbody tr th:only-of-type {\n",
       "        vertical-align: middle;\n",
       "    }\n",
       "\n",
       "    .dataframe tbody tr th {\n",
       "        vertical-align: top;\n",
       "    }\n",
       "\n",
       "    .dataframe thead th {\n",
       "        text-align: right;\n",
       "    }\n",
       "</style>\n",
       "<table border=\"1\" class=\"dataframe\">\n",
       "  <thead>\n",
       "    <tr style=\"text-align: right;\">\n",
       "      <th></th>\n",
       "      <th>Song-Id</th>\n",
       "      <th>occur</th>\n",
       "    </tr>\n",
       "  </thead>\n",
       "  <tbody>\n",
       "    <tr>\n",
       "      <th>38185</th>\n",
       "      <td>SOFRQTD12A81C233C0</td>\n",
       "      <td>5043</td>\n",
       "    </tr>\n",
       "    <tr>\n",
       "      <th>5478</th>\n",
       "      <td>SOAUWYT12A81C206F1</td>\n",
       "      <td>4483</td>\n",
       "    </tr>\n",
       "    <tr>\n",
       "      <th>10546</th>\n",
       "      <td>SOBONKR12A58A7A7E0</td>\n",
       "      <td>4136</td>\n",
       "    </tr>\n",
       "    <tr>\n",
       "      <th>6096</th>\n",
       "      <td>SOAXGDH12A8C13F8A1</td>\n",
       "      <td>3780</td>\n",
       "    </tr>\n",
       "    <tr>\n",
       "      <th>121599</th>\n",
       "      <td>SOSXLTC12AF72A7F54</td>\n",
       "      <td>3672</td>\n",
       "    </tr>\n",
       "    <tr>\n",
       "      <th>91409</th>\n",
       "      <td>SONYKOW12AB01849C9</td>\n",
       "      <td>3430</td>\n",
       "    </tr>\n",
       "    <tr>\n",
       "      <th>28684</th>\n",
       "      <td>SOEGIYH12A6D4FC0E3</td>\n",
       "      <td>3272</td>\n",
       "    </tr>\n",
       "    <tr>\n",
       "      <th>22787</th>\n",
       "      <td>SODJWHY12A8C142CCE</td>\n",
       "      <td>2791</td>\n",
       "    </tr>\n",
       "    <tr>\n",
       "      <th>74297</th>\n",
       "      <td>SOLFXKT12AB017E3E0</td>\n",
       "      <td>2725</td>\n",
       "    </tr>\n",
       "    <tr>\n",
       "      <th>36622</th>\n",
       "      <td>SOFLJQZ12A6D4FADA6</td>\n",
       "      <td>2668</td>\n",
       "    </tr>\n",
       "    <tr>\n",
       "      <th>132363</th>\n",
       "      <td>SOUSMXX12AB0185C24</td>\n",
       "      <td>2260</td>\n",
       "    </tr>\n",
       "    <tr>\n",
       "      <th>133072</th>\n",
       "      <td>SOUVTSM12AC468F6A7</td>\n",
       "      <td>2226</td>\n",
       "    </tr>\n",
       "    <tr>\n",
       "      <th>51861</th>\n",
       "      <td>SOHTKMO12AB01843B0</td>\n",
       "      <td>2097</td>\n",
       "    </tr>\n",
       "    <tr>\n",
       "      <th>127316</th>\n",
       "      <td>SOTWNDJ12A8C143984</td>\n",
       "      <td>1990</td>\n",
       "    </tr>\n",
       "    <tr>\n",
       "      <th>140446</th>\n",
       "      <td>SOWCKVR12A8C142411</td>\n",
       "      <td>1911</td>\n",
       "    </tr>\n",
       "    <tr>\n",
       "      <th>10623</th>\n",
       "      <td>SOBOUPA12A6D4F81F1</td>\n",
       "      <td>1797</td>\n",
       "    </tr>\n",
       "    <tr>\n",
       "      <th>93216</th>\n",
       "      <td>SOOFYTN12A6D4F9B35</td>\n",
       "      <td>1769</td>\n",
       "    </tr>\n",
       "    <tr>\n",
       "      <th>102758</th>\n",
       "      <td>SOPUCYA12A8C13A694</td>\n",
       "      <td>1727</td>\n",
       "    </tr>\n",
       "    <tr>\n",
       "      <th>134757</th>\n",
       "      <td>SOVDSJC12A58A7A271</td>\n",
       "      <td>1712</td>\n",
       "    </tr>\n",
       "    <tr>\n",
       "      <th>101706</th>\n",
       "      <td>SOPPROJ12AB0184E18</td>\n",
       "      <td>1683</td>\n",
       "    </tr>\n",
       "  </tbody>\n",
       "</table>\n",
       "</div>"
      ],
      "text/plain": [
       "                   Song-Id  occur\n",
       "38185   SOFRQTD12A81C233C0   5043\n",
       "5478    SOAUWYT12A81C206F1   4483\n",
       "10546   SOBONKR12A58A7A7E0   4136\n",
       "6096    SOAXGDH12A8C13F8A1   3780\n",
       "121599  SOSXLTC12AF72A7F54   3672\n",
       "91409   SONYKOW12AB01849C9   3430\n",
       "28684   SOEGIYH12A6D4FC0E3   3272\n",
       "22787   SODJWHY12A8C142CCE   2791\n",
       "74297   SOLFXKT12AB017E3E0   2725\n",
       "36622   SOFLJQZ12A6D4FADA6   2668\n",
       "132363  SOUSMXX12AB0185C24   2260\n",
       "133072  SOUVTSM12AC468F6A7   2226\n",
       "51861   SOHTKMO12AB01843B0   2097\n",
       "127316  SOTWNDJ12A8C143984   1990\n",
       "140446  SOWCKVR12A8C142411   1911\n",
       "10623   SOBOUPA12A6D4F81F1   1797\n",
       "93216   SOOFYTN12A6D4F9B35   1769\n",
       "102758  SOPUCYA12A8C13A694   1727\n",
       "134757  SOVDSJC12A58A7A271   1712\n",
       "101706  SOPPROJ12AB0184E18   1683"
      ]
     },
     "execution_count": 25,
     "metadata": {},
     "output_type": "execute_result"
    }
   ],
   "source": [
    "listen_song.head(20)"
   ]
  },
  {
   "cell_type": "markdown",
   "metadata": {},
   "source": [
    "For our recommendation system selecting only those sings those are been listened at least 50 users."
   ]
  },
  {
   "cell_type": "code",
   "execution_count": 26,
   "metadata": {},
   "outputs": [],
   "source": [
    "listen_song = listen_song[(listen_song.occur >= 50)]"
   ]
  },
  {
   "cell_type": "markdown",
   "metadata": {},
   "source": [
    " As we can see below total 4811 songs are such songs those are been listened by atleast 50 users."
   ]
  },
  {
   "cell_type": "code",
   "execution_count": 27,
   "metadata": {
    "scrolled": false
   },
   "outputs": [
    {
     "data": {
      "text/plain": [
       "4811"
      ]
     },
     "execution_count": 27,
     "metadata": {},
     "output_type": "execute_result"
    }
   ],
   "source": [
    "listen_song['Song-Id'].count()"
   ]
  },
  {
   "cell_type": "code",
   "execution_count": 28,
   "metadata": {
    "scrolled": true
   },
   "outputs": [
    {
     "data": {
      "text/html": [
       "<div>\n",
       "<style scoped>\n",
       "    .dataframe tbody tr th:only-of-type {\n",
       "        vertical-align: middle;\n",
       "    }\n",
       "\n",
       "    .dataframe tbody tr th {\n",
       "        vertical-align: top;\n",
       "    }\n",
       "\n",
       "    .dataframe thead th {\n",
       "        text-align: right;\n",
       "    }\n",
       "</style>\n",
       "<table border=\"1\" class=\"dataframe\">\n",
       "  <thead>\n",
       "    <tr style=\"text-align: right;\">\n",
       "      <th></th>\n",
       "      <th>Song-Id</th>\n",
       "      <th>occur</th>\n",
       "    </tr>\n",
       "  </thead>\n",
       "  <tbody>\n",
       "    <tr>\n",
       "      <th>38185</th>\n",
       "      <td>SOFRQTD12A81C233C0</td>\n",
       "      <td>5043</td>\n",
       "    </tr>\n",
       "    <tr>\n",
       "      <th>5478</th>\n",
       "      <td>SOAUWYT12A81C206F1</td>\n",
       "      <td>4483</td>\n",
       "    </tr>\n",
       "    <tr>\n",
       "      <th>10546</th>\n",
       "      <td>SOBONKR12A58A7A7E0</td>\n",
       "      <td>4136</td>\n",
       "    </tr>\n",
       "    <tr>\n",
       "      <th>6096</th>\n",
       "      <td>SOAXGDH12A8C13F8A1</td>\n",
       "      <td>3780</td>\n",
       "    </tr>\n",
       "    <tr>\n",
       "      <th>121599</th>\n",
       "      <td>SOSXLTC12AF72A7F54</td>\n",
       "      <td>3672</td>\n",
       "    </tr>\n",
       "  </tbody>\n",
       "</table>\n",
       "</div>"
      ],
      "text/plain": [
       "                   Song-Id  occur\n",
       "38185   SOFRQTD12A81C233C0   5043\n",
       "5478    SOAUWYT12A81C206F1   4483\n",
       "10546   SOBONKR12A58A7A7E0   4136\n",
       "6096    SOAXGDH12A8C13F8A1   3780\n",
       "121599  SOSXLTC12AF72A7F54   3672"
      ]
     },
     "execution_count": 28,
     "metadata": {},
     "output_type": "execute_result"
    }
   ],
   "source": [
    "listen_song.head(5)"
   ]
  },
  {
   "cell_type": "code",
   "execution_count": 29,
   "metadata": {},
   "outputs": [],
   "source": [
    "listen_song.drop('occur',inplace=True,axis=1)"
   ]
  },
  {
   "cell_type": "code",
   "execution_count": 30,
   "metadata": {
    "scrolled": true
   },
   "outputs": [
    {
     "data": {
      "text/html": [
       "<div>\n",
       "<style scoped>\n",
       "    .dataframe tbody tr th:only-of-type {\n",
       "        vertical-align: middle;\n",
       "    }\n",
       "\n",
       "    .dataframe tbody tr th {\n",
       "        vertical-align: top;\n",
       "    }\n",
       "\n",
       "    .dataframe thead th {\n",
       "        text-align: right;\n",
       "    }\n",
       "</style>\n",
       "<table border=\"1\" class=\"dataframe\">\n",
       "  <thead>\n",
       "    <tr style=\"text-align: right;\">\n",
       "      <th></th>\n",
       "      <th>Song-Id</th>\n",
       "    </tr>\n",
       "  </thead>\n",
       "  <tbody>\n",
       "    <tr>\n",
       "      <th>38185</th>\n",
       "      <td>SOFRQTD12A81C233C0</td>\n",
       "    </tr>\n",
       "    <tr>\n",
       "      <th>5478</th>\n",
       "      <td>SOAUWYT12A81C206F1</td>\n",
       "    </tr>\n",
       "    <tr>\n",
       "      <th>10546</th>\n",
       "      <td>SOBONKR12A58A7A7E0</td>\n",
       "    </tr>\n",
       "    <tr>\n",
       "      <th>6096</th>\n",
       "      <td>SOAXGDH12A8C13F8A1</td>\n",
       "    </tr>\n",
       "    <tr>\n",
       "      <th>121599</th>\n",
       "      <td>SOSXLTC12AF72A7F54</td>\n",
       "    </tr>\n",
       "  </tbody>\n",
       "</table>\n",
       "</div>"
      ],
      "text/plain": [
       "                   Song-Id\n",
       "38185   SOFRQTD12A81C233C0\n",
       "5478    SOAUWYT12A81C206F1\n",
       "10546   SOBONKR12A58A7A7E0\n",
       "6096    SOAXGDH12A8C13F8A1\n",
       "121599  SOSXLTC12AF72A7F54"
      ]
     },
     "execution_count": 30,
     "metadata": {},
     "output_type": "execute_result"
    }
   ],
   "source": [
    "listen_song.head(5)"
   ]
  },
  {
   "cell_type": "markdown",
   "metadata": {},
   "source": [
    "the above checks on songs and user ID are been put because of hardware issue, we would be recommending songs only to the user who has listened more than 30 songs, and songs those are been in consideration are the onces listened atleast by 50 different users."
   ]
  },
  {
   "cell_type": "markdown",
   "metadata": {},
   "source": [
    "below are are putting the join between SONG dataset and USER dataset with our selected records just to make sure data extracted re valid one and is present in the master dataset"
   ]
  },
  {
   "cell_type": "code",
   "execution_count": 31,
   "metadata": {},
   "outputs": [],
   "source": [
    "song_merge = pd.merge(left=listen_song, right=songs, left_on='Song-Id', right_on='Song-Id')"
   ]
  },
  {
   "cell_type": "code",
   "execution_count": 32,
   "metadata": {
    "scrolled": true
   },
   "outputs": [
    {
     "data": {
      "text/plain": [
       "Song-Id    4811\n",
       "dtype: int64"
      ]
     },
     "execution_count": 32,
     "metadata": {},
     "output_type": "execute_result"
    }
   ],
   "source": [
    "song_merge.count()"
   ]
  },
  {
   "cell_type": "code",
   "execution_count": 33,
   "metadata": {},
   "outputs": [
    {
     "data": {
      "text/html": [
       "<div>\n",
       "<style scoped>\n",
       "    .dataframe tbody tr th:only-of-type {\n",
       "        vertical-align: middle;\n",
       "    }\n",
       "\n",
       "    .dataframe tbody tr th {\n",
       "        vertical-align: top;\n",
       "    }\n",
       "\n",
       "    .dataframe thead th {\n",
       "        text-align: right;\n",
       "    }\n",
       "</style>\n",
       "<table border=\"1\" class=\"dataframe\">\n",
       "  <thead>\n",
       "    <tr style=\"text-align: right;\">\n",
       "      <th></th>\n",
       "      <th>Song-Id</th>\n",
       "    </tr>\n",
       "  </thead>\n",
       "  <tbody>\n",
       "    <tr>\n",
       "      <th>0</th>\n",
       "      <td>SOFRQTD12A81C233C0</td>\n",
       "    </tr>\n",
       "    <tr>\n",
       "      <th>1</th>\n",
       "      <td>SOAUWYT12A81C206F1</td>\n",
       "    </tr>\n",
       "    <tr>\n",
       "      <th>2</th>\n",
       "      <td>SOBONKR12A58A7A7E0</td>\n",
       "    </tr>\n",
       "    <tr>\n",
       "      <th>3</th>\n",
       "      <td>SOAXGDH12A8C13F8A1</td>\n",
       "    </tr>\n",
       "    <tr>\n",
       "      <th>4</th>\n",
       "      <td>SOSXLTC12AF72A7F54</td>\n",
       "    </tr>\n",
       "  </tbody>\n",
       "</table>\n",
       "</div>"
      ],
      "text/plain": [
       "              Song-Id\n",
       "0  SOFRQTD12A81C233C0\n",
       "1  SOAUWYT12A81C206F1\n",
       "2  SOBONKR12A58A7A7E0\n",
       "3  SOAXGDH12A8C13F8A1\n",
       "4  SOSXLTC12AF72A7F54"
      ]
     },
     "execution_count": 33,
     "metadata": {},
     "output_type": "execute_result"
    }
   ],
   "source": [
    "song_merge.head(5)"
   ]
  },
  {
   "cell_type": "code",
   "execution_count": 34,
   "metadata": {},
   "outputs": [],
   "source": [
    "user_merge = pd.merge(left=listen_user, right=users, left_on='User-Id', right_on='User-Id')"
   ]
  },
  {
   "cell_type": "code",
   "execution_count": 35,
   "metadata": {},
   "outputs": [
    {
     "data": {
      "text/plain": [
       "User-Id    5953\n",
       "dtype: int64"
      ]
     },
     "execution_count": 35,
     "metadata": {},
     "output_type": "execute_result"
    }
   ],
   "source": [
    "user_merge.count()"
   ]
  },
  {
   "cell_type": "code",
   "execution_count": 36,
   "metadata": {},
   "outputs": [
    {
     "data": {
      "text/html": [
       "<div>\n",
       "<style scoped>\n",
       "    .dataframe tbody tr th:only-of-type {\n",
       "        vertical-align: middle;\n",
       "    }\n",
       "\n",
       "    .dataframe tbody tr th {\n",
       "        vertical-align: top;\n",
       "    }\n",
       "\n",
       "    .dataframe thead th {\n",
       "        text-align: right;\n",
       "    }\n",
       "</style>\n",
       "<table border=\"1\" class=\"dataframe\">\n",
       "  <thead>\n",
       "    <tr style=\"text-align: right;\">\n",
       "      <th></th>\n",
       "      <th>User-Id</th>\n",
       "    </tr>\n",
       "  </thead>\n",
       "  <tbody>\n",
       "    <tr>\n",
       "      <th>0</th>\n",
       "      <td>7d90be8dfdbde170f036ce8a4b915440137cb11c</td>\n",
       "    </tr>\n",
       "    <tr>\n",
       "      <th>1</th>\n",
       "      <td>d30e18323f15426c3cdc8585252ed34459916f51</td>\n",
       "    </tr>\n",
       "    <tr>\n",
       "      <th>2</th>\n",
       "      <td>03ad93fdb01506ce205f4708decf8e4b1ae90fff</td>\n",
       "    </tr>\n",
       "    <tr>\n",
       "      <th>3</th>\n",
       "      <td>2e424b28bff1f62a2dae22a918f09f9c30c06d1b</td>\n",
       "    </tr>\n",
       "    <tr>\n",
       "      <th>4</th>\n",
       "      <td>016a24e91a72c159a5048ab1b9b2ba5ce761b526</td>\n",
       "    </tr>\n",
       "  </tbody>\n",
       "</table>\n",
       "</div>"
      ],
      "text/plain": [
       "                                    User-Id\n",
       "0  7d90be8dfdbde170f036ce8a4b915440137cb11c\n",
       "1  d30e18323f15426c3cdc8585252ed34459916f51\n",
       "2  03ad93fdb01506ce205f4708decf8e4b1ae90fff\n",
       "3  2e424b28bff1f62a2dae22a918f09f9c30c06d1b\n",
       "4  016a24e91a72c159a5048ab1b9b2ba5ce761b526"
      ]
     },
     "execution_count": 36,
     "metadata": {},
     "output_type": "execute_result"
    }
   ],
   "source": [
    "user_merge.head(5)"
   ]
  },
  {
   "cell_type": "markdown",
   "metadata": {},
   "source": [
    "after the corss validation, putting the joing of extracted SONG annd USERID with the listened song details list to see the finl extracted records those would be used forl our recommenataion.\n",
    "we coudl see below that the extracted records count are 83741"
   ]
  },
  {
   "cell_type": "code",
   "execution_count": 37,
   "metadata": {},
   "outputs": [],
   "source": [
    "first_merge = pd.merge(left=listen, right=user_merge, left_on='User-Id', right_on='User-Id')"
   ]
  },
  {
   "cell_type": "code",
   "execution_count": 38,
   "metadata": {},
   "outputs": [],
   "source": [
    "reco_data = pd.merge(left=first_merge, right=song_merge, left_on='Song-Id', right_on='Song-Id')"
   ]
  },
  {
   "cell_type": "code",
   "execution_count": 39,
   "metadata": {
    "scrolled": true
   },
   "outputs": [
    {
     "data": {
      "text/plain": [
       "User-Id        83741\n",
       "Song-Id        83741\n",
       "ListenCount    83741\n",
       "dtype: int64"
      ]
     },
     "execution_count": 39,
     "metadata": {},
     "output_type": "execute_result"
    }
   ],
   "source": [
    "reco_data.count()"
   ]
  },
  {
   "cell_type": "code",
   "execution_count": 40,
   "metadata": {},
   "outputs": [
    {
     "name": "stdout",
     "output_type": "stream",
     "text": [
      "<class 'pandas.core.frame.DataFrame'>\n",
      "Int64Index: 83741 entries, 0 to 83740\n",
      "Data columns (total 3 columns):\n",
      "User-Id        83741 non-null object\n",
      "Song-Id        83741 non-null object\n",
      "ListenCount    83741 non-null int64\n",
      "dtypes: int64(1), object(2)\n",
      "memory usage: 2.6+ MB\n"
     ]
    }
   ],
   "source": [
    "reco_data.info()"
   ]
  },
  {
   "cell_type": "markdown",
   "metadata": {},
   "source": [
    "below is the code for making songs recommentdations, we are using USER based collaborative filtering for our recommendation system."
   ]
  },
  {
   "cell_type": "code",
   "execution_count": 42,
   "metadata": {},
   "outputs": [],
   "source": [
    "import pandas as pd\n",
    "from surprise import Reader\n",
    "from surprise import Dataset\n",
    "from surprise import KNNBasic\n",
    "from surprise.model_selection import train_test_split\n",
    "\n",
    "from collections import defaultdict\n",
    "import heapq"
   ]
  },
  {
   "cell_type": "code",
   "execution_count": 43,
   "metadata": {},
   "outputs": [],
   "source": [
    "from matplotlib import pyplot as plt\n",
    "%matplotlib inline"
   ]
  },
  {
   "cell_type": "markdown",
   "metadata": {},
   "source": [
    "Below is the count of users those we have in our data. and to be used for creating the recommendation system for these users."
   ]
  },
  {
   "cell_type": "code",
   "execution_count": 49,
   "metadata": {},
   "outputs": [
    {
     "name": "stdout",
     "output_type": "stream",
     "text": [
      "The number of users is 5896\n"
     ]
    }
   ],
   "source": [
    "print(\"The number of users is {}\".format(reco_data['User-Id'].nunique()))"
   ]
  },
  {
   "cell_type": "markdown",
   "metadata": {},
   "source": [
    "Below is the count of songss those we have in our data to be used for creating the recommendation system. and only these songs would only be recommended to the users of our data."
   ]
  },
  {
   "cell_type": "code",
   "execution_count": 50,
   "metadata": {},
   "outputs": [
    {
     "name": "stdout",
     "output_type": "stream",
     "text": [
      "The number of songs is 4810\n"
     ]
    }
   ],
   "source": [
    "print(\"The number of songs is {}\".format(reco_data['Song-Id'].nunique()))"
   ]
  },
  {
   "cell_type": "code",
   "execution_count": 51,
   "metadata": {},
   "outputs": [
    {
     "data": {
      "text/plain": [
       "<matplotlib.axes._subplots.AxesSubplot at 0x1d385ea3eb8>"
      ]
     },
     "execution_count": 51,
     "metadata": {},
     "output_type": "execute_result"
    },
    {
     "data": {
      "image/png": "[encoded data removed]",
      "text/plain": [
       "<Figure size 432x288 with 1 Axes>"
      ]
     },
     "metadata": {
      "needs_background": "light"
     },
     "output_type": "display_data"
    }
   ],
   "source": [
    "reco_data['ListenCount'].hist(grid=True)"
   ]
  },
  {
   "cell_type": "code",
   "execution_count": 52,
   "metadata": {
    "scrolled": false
   },
   "outputs": [
    {
     "data": {
      "image/png": "[encoded data removed]",
      "text/plain": [
       "<Figure size 360x360 with 1 Axes>"
      ]
     },
     "metadata": {
      "needs_background": "light"
     },
     "output_type": "display_data"
    }
   ],
   "source": [
    "####### Plotting histogram  for listen Count\n",
    "plt.figure(figsize=(5,5))\n",
    "x = reco_data['ListenCount']\n",
    "plt.hist(x, bins = 50)\n",
    "plt.title('Listen Count histogram')\n",
    "plt.xlabel('listen count of songs')\n",
    "plt.ylabel('Frequency')\n",
    "plt.show()"
   ]
  },
  {
   "cell_type": "markdown",
   "metadata": {},
   "source": [
    "For our system we are taking the listen count as the ratings, since the listen count is invariably distributed from 1 to 463, we are normalising this count in ratings in scale 1 to 5.\n",
    "if listen count = 1, then rating = 1\n",
    "if listen count = 2, then rating = 2\n",
    "if listen count = 3 to 5, then rating = 3\n",
    "if listen count = 6 to 10, then rating = 4\n",
    "if listen count > 10, then rating = 5"
   ]
  },
  {
   "cell_type": "code",
   "execution_count": 53,
   "metadata": {},
   "outputs": [],
   "source": [
    "\n",
    "\n",
    "for i in reco_data.index:\n",
    "    if (reco_data.at[i, \"ListenCount\"] == 1):\n",
    "        reco_data.at[i, \"ListenCount\"] = 1\n",
    "    elif (reco_data.at[i, \"ListenCount\"] == 2):\n",
    "        reco_data.at[i, \"ListenCount\"] = 2\n",
    "    elif (reco_data.at[i, \"ListenCount\"] in range(2,6)):\n",
    "        reco_data.at[i, \"ListenCount\"] = 3\n",
    "    elif (reco_data.at[i, \"ListenCount\"] in range(5,11)):\n",
    "        reco_data.at[i, \"ListenCount\"] = 4\n",
    "    else:\n",
    "        reco_data.at[i, \"ListenCount\"] = 5"
   ]
  },
  {
   "cell_type": "markdown",
   "metadata": {},
   "source": [
    "After Normalising the listen count into rating checking its distribution"
   ]
  },
  {
   "cell_type": "code",
   "execution_count": 54,
   "metadata": {},
   "outputs": [],
   "source": [
    "dataana = reco_data.groupby('ListenCount').size().reset_index(name = 'occur')"
   ]
  },
  {
   "cell_type": "code",
   "execution_count": 55,
   "metadata": {},
   "outputs": [],
   "source": [
    "reader = Reader(rating_scale=(1,5))\n",
    "data = Dataset.load_from_df(reco_data[['User-Id','Song-Id','ListenCount']], reader)"
   ]
  },
  {
   "cell_type": "code",
   "execution_count": 56,
   "metadata": {
    "scrolled": true
   },
   "outputs": [
    {
     "data": {
      "text/html": [
       "<div>\n",
       "<style scoped>\n",
       "    .dataframe tbody tr th:only-of-type {\n",
       "        vertical-align: middle;\n",
       "    }\n",
       "\n",
       "    .dataframe tbody tr th {\n",
       "        vertical-align: top;\n",
       "    }\n",
       "\n",
       "    .dataframe thead th {\n",
       "        text-align: right;\n",
       "    }\n",
       "</style>\n",
       "<table border=\"1\" class=\"dataframe\">\n",
       "  <thead>\n",
       "    <tr style=\"text-align: right;\">\n",
       "      <th></th>\n",
       "      <th>ListenCount</th>\n",
       "      <th>occur</th>\n",
       "    </tr>\n",
       "  </thead>\n",
       "  <tbody>\n",
       "    <tr>\n",
       "      <th>0</th>\n",
       "      <td>1</td>\n",
       "      <td>44682</td>\n",
       "    </tr>\n",
       "    <tr>\n",
       "      <th>1</th>\n",
       "      <td>2</td>\n",
       "      <td>13128</td>\n",
       "    </tr>\n",
       "    <tr>\n",
       "      <th>2</th>\n",
       "      <td>3</td>\n",
       "      <td>14430</td>\n",
       "    </tr>\n",
       "    <tr>\n",
       "      <th>3</th>\n",
       "      <td>4</td>\n",
       "      <td>6534</td>\n",
       "    </tr>\n",
       "    <tr>\n",
       "      <th>4</th>\n",
       "      <td>5</td>\n",
       "      <td>4967</td>\n",
       "    </tr>\n",
       "  </tbody>\n",
       "</table>\n",
       "</div>"
      ],
      "text/plain": [
       "   ListenCount  occur\n",
       "0            1  44682\n",
       "1            2  13128\n",
       "2            3  14430\n",
       "3            4   6534\n",
       "4            5   4967"
      ]
     },
     "execution_count": 56,
     "metadata": {},
     "output_type": "execute_result"
    }
   ],
   "source": [
    "dataana.head(30)\n"
   ]
  },
  {
   "cell_type": "markdown",
   "metadata": {},
   "source": [
    "lets train the model with 99.9999 % of data"
   ]
  },
  {
   "cell_type": "code",
   "execution_count": 57,
   "metadata": {},
   "outputs": [],
   "source": [
    "trainset, testset = train_test_split(data, test_size =0.00001, random_state = 1)"
   ]
  },
  {
   "cell_type": "code",
   "execution_count": 58,
   "metadata": {},
   "outputs": [
    {
     "data": {
      "text/plain": [
       "<surprise.trainset.Trainset at 0x1d385d3d390>"
      ]
     },
     "execution_count": 58,
     "metadata": {},
     "output_type": "execute_result"
    }
   ],
   "source": [
    "trainset"
   ]
  },
  {
   "cell_type": "code",
   "execution_count": 59,
   "metadata": {
    "scrolled": false
   },
   "outputs": [
    {
     "data": {
      "text/plain": [
       "[('dd240b1da8128ff8912a9a03167f11bd7b53036d', 'SOMYTVF12AB018DD45', 2.0)]"
      ]
     },
     "execution_count": 59,
     "metadata": {},
     "output_type": "execute_result"
    }
   ],
   "source": [
    "testset"
   ]
  },
  {
   "cell_type": "markdown",
   "metadata": {},
   "source": [
    "for predictions lets do the prediction on 99.99999% of data"
   ]
  },
  {
   "cell_type": "code",
   "execution_count": 60,
   "metadata": {},
   "outputs": [],
   "source": [
    "trainset1, testset = train_test_split(data, test_size =0.999999, random_state = 1)"
   ]
  },
  {
   "cell_type": "code",
   "execution_count": 61,
   "metadata": {},
   "outputs": [
    {
     "data": {
      "text/plain": [
       "83741"
      ]
     },
     "execution_count": 61,
     "metadata": {},
     "output_type": "execute_result"
    }
   ],
   "source": [
    "len(testset)"
   ]
  },
  {
   "cell_type": "markdown",
   "metadata": {},
   "source": [
    "below doing the USER BASED COLLABORATIVE filtering based on teh COSINE similarity funtion."
   ]
  },
  {
   "cell_type": "code",
   "execution_count": 62,
   "metadata": {},
   "outputs": [
    {
     "name": "stdout",
     "output_type": "stream",
     "text": [
      "Computing the cosine similarity matrix...\n",
      "Done computing similarity matrix.\n"
     ]
    },
    {
     "data": {
      "text/plain": [
       "<surprise.prediction_algorithms.knns.KNNBasic at 0x1d385fbff60>"
      ]
     },
     "execution_count": 62,
     "metadata": {},
     "output_type": "execute_result"
    }
   ],
   "source": [
    "sim_options = {'name':'cosine', 'user_based':True}\n",
    "algo = KNNBasic(sim_options=sim_options)\n",
    "algo.fit(trainset)"
   ]
  },
  {
   "cell_type": "code",
   "execution_count": 63,
   "metadata": {},
   "outputs": [],
   "source": [
    "predictions = algo.test(testset)"
   ]
  },
  {
   "cell_type": "code",
   "execution_count": 64,
   "metadata": {},
   "outputs": [],
   "source": [
    "def get_top_n(predictions, n = 10):\n",
    "    # First map the predictions to each user. \n",
    "    byUser = defaultdict(list)\n",
    "    for p in predictions:\n",
    "        byUser[p.uid].append(p)\n",
    "    \n",
    "    # For each user, reduce predictions to top-n\n",
    "    for uid, userPredictions in byUser.items():\n",
    "        byUser[uid] = heapq.nlargest(n, userPredictions, key=lambda p: p.est)\n",
    "    return byUser"
   ]
  },
  {
   "cell_type": "code",
   "execution_count": 65,
   "metadata": {},
   "outputs": [],
   "source": [
    "top_n = get_top_n(predictions, n= 10)"
   ]
  },
  {
   "cell_type": "code",
   "execution_count": 66,
   "metadata": {
    "scrolled": true
   },
   "outputs": [
    {
     "name": "stdout",
     "output_type": "stream",
     "text": [
      "Top-10 recommendations items for each user\n",
      "User c56b981eafc615e6bb6070afe5cf92afe3256231\n",
      " SongId SOJDJWL12AB0186A16 (3.17) SongId SOZYUXF12A6701F7B9 (2.81) SongId SOMIIAW12AC46881C5 (2.50) SongId SOVHFMK12A679AE565 (2.44) SongId SOVRXWW12A6D4F74D3 (2.42) SongId SOULUTZ12A8C13FCDB (2.17) SongId SOXLJXH12A8C13D903 (2.14) SongId SOGNIXD12A8C1341C3 (2.10) SongId SOMXQGH12A8C13CBEF (2.04) SongId SOUBZPQ12A8C13629D (1.93)\n",
      "User d51ebe4a9158d7b2e2daae2c2171f47bc97d8293\n",
      " SongId SOSKDTM12A6701C795 (2.61) SongId SOPOEUK12AB017F93A (2.46) SongId SOPCCWV12A670205F3 (2.30) SongId SOOKRGE12A6D4FACC4 (2.23) SongId SOPTWVT12A8AE48371 (2.07) SongId SOTCLIO12AB0180F26 (2.02) SongId SOSHYQA12A67ADA568 (2.01) SongId SOXTCSM12A6D4F9E48 (2.00) SongId SOICLDN12A6D4FD77B (1.93) SongId SOIKTWI12AB017DB72 (1.79)\n",
      "User 1f87e0bbdf57e2e5343221323587ec205ffb7732\n",
      " SongId SOLRBSH12AB018AE7B (2.81) SongId SOAOSDF12A58A779F1 (2.66) SongId SOPPROJ12AB0184E18 (2.48) SongId SOWONPQ12A8BED02A8 (2.46) SongId SOLGPOU12A58A7EA20 (2.40) SongId SOJUXGA12AC961885C (2.39) SongId SOUOEMP12A8C13866E (2.33) SongId SOVRIPE12A6D4FEA19 (2.29) SongId SOJLXET12AB0188632 (2.26) SongId SOTWSXL12A8C143349 (2.25)\n",
      "User c391906bd37ebf448c8fe6ee9440db62f5820f9c\n",
      " SongId SOCHKWF12A58A7C9B7 (2.43) SongId SOMHEVM12A58A80951 (2.43) SongId SOTQEWT12A6D4F7D2A (2.34) SongId SOZHBRQ12A6D4F7D2E (2.32) SongId SOGELZG12A6D4F865F (2.16) SongId SOWSPUS12AC468BEE3 (2.15) SongId SOLRNRB12A8AE491F4 (2.14) SongId SOGDFMH12A8C138511 (2.08) SongId SOJEVHC12A8C13C3E5 (2.07) SongId SOTKYBW12A8C13C3EA (2.05)\n"
     ]
    }
   ],
   "source": [
    "print('Top-10 recommendations items for each user')\n",
    "for uid, user_ratings in list(top_n.items())[:4]:\n",
    "    print('User {}'.format(uid))\n",
    "    for prediction in user_ratings:\n",
    "        print(' SongId {0.iid} ({0.est:.2f})'.format(prediction), end = '')\n",
    "    print()"
   ]
  },
  {
   "cell_type": "markdown",
   "metadata": {},
   "source": [
    "validating the above using our extracted data."
   ]
  },
  {
   "cell_type": "code",
   "execution_count": 69,
   "metadata": {},
   "outputs": [],
   "source": [
    "TestListen = reco_data[reco_data[\"User-Id\"] == \"c56b981eafc615e6bb6070afe5cf92afe3256231\"].sort_values(by='ListenCount', ascending=False)"
   ]
  },
  {
   "cell_type": "code",
   "execution_count": 70,
   "metadata": {},
   "outputs": [
    {
     "data": {
      "text/html": [
       "<div>\n",
       "<style scoped>\n",
       "    .dataframe tbody tr th:only-of-type {\n",
       "        vertical-align: middle;\n",
       "    }\n",
       "\n",
       "    .dataframe tbody tr th {\n",
       "        vertical-align: top;\n",
       "    }\n",
       "\n",
       "    .dataframe thead th {\n",
       "        text-align: right;\n",
       "    }\n",
       "</style>\n",
       "<table border=\"1\" class=\"dataframe\">\n",
       "  <thead>\n",
       "    <tr style=\"text-align: right;\">\n",
       "      <th></th>\n",
       "      <th>User-Id</th>\n",
       "      <th>Song-Id</th>\n",
       "      <th>ListenCount</th>\n",
       "    </tr>\n",
       "  </thead>\n",
       "  <tbody>\n",
       "    <tr>\n",
       "      <th>13498</th>\n",
       "      <td>c56b981eafc615e6bb6070afe5cf92afe3256231</td>\n",
       "      <td>SOVHFMK12A679AE565</td>\n",
       "      <td>4</td>\n",
       "    </tr>\n",
       "    <tr>\n",
       "      <th>38157</th>\n",
       "      <td>c56b981eafc615e6bb6070afe5cf92afe3256231</td>\n",
       "      <td>SOSLZXV12A8C1354C9</td>\n",
       "      <td>4</td>\n",
       "    </tr>\n",
       "    <tr>\n",
       "      <th>67444</th>\n",
       "      <td>c56b981eafc615e6bb6070afe5cf92afe3256231</td>\n",
       "      <td>SOVRXWW12A6D4F74D3</td>\n",
       "      <td>3</td>\n",
       "    </tr>\n",
       "    <tr>\n",
       "      <th>83401</th>\n",
       "      <td>c56b981eafc615e6bb6070afe5cf92afe3256231</td>\n",
       "      <td>SOZYUXF12A6701F7B9</td>\n",
       "      <td>3</td>\n",
       "    </tr>\n",
       "    <tr>\n",
       "      <th>12112</th>\n",
       "      <td>c56b981eafc615e6bb6070afe5cf92afe3256231</td>\n",
       "      <td>SOULUTZ12A8C13FCDB</td>\n",
       "      <td>2</td>\n",
       "    </tr>\n",
       "    <tr>\n",
       "      <th>18104</th>\n",
       "      <td>c56b981eafc615e6bb6070afe5cf92afe3256231</td>\n",
       "      <td>SOXLJXH12A8C13D903</td>\n",
       "      <td>2</td>\n",
       "    </tr>\n",
       "    <tr>\n",
       "      <th>18255</th>\n",
       "      <td>c56b981eafc615e6bb6070afe5cf92afe3256231</td>\n",
       "      <td>SOBOAFP12A8C131F36</td>\n",
       "      <td>2</td>\n",
       "    </tr>\n",
       "    <tr>\n",
       "      <th>33910</th>\n",
       "      <td>c56b981eafc615e6bb6070afe5cf92afe3256231</td>\n",
       "      <td>SOFGQNB12A6D4F74F8</td>\n",
       "      <td>2</td>\n",
       "    </tr>\n",
       "    <tr>\n",
       "      <th>36441</th>\n",
       "      <td>c56b981eafc615e6bb6070afe5cf92afe3256231</td>\n",
       "      <td>SOMXQGH12A8C13CBEF</td>\n",
       "      <td>2</td>\n",
       "    </tr>\n",
       "    <tr>\n",
       "      <th>43898</th>\n",
       "      <td>c56b981eafc615e6bb6070afe5cf92afe3256231</td>\n",
       "      <td>SOJDJWL12AB0186A16</td>\n",
       "      <td>2</td>\n",
       "    </tr>\n",
       "    <tr>\n",
       "      <th>44440</th>\n",
       "      <td>c56b981eafc615e6bb6070afe5cf92afe3256231</td>\n",
       "      <td>SORJLZX12A5891F7A5</td>\n",
       "      <td>2</td>\n",
       "    </tr>\n",
       "    <tr>\n",
       "      <th>80874</th>\n",
       "      <td>c56b981eafc615e6bb6070afe5cf92afe3256231</td>\n",
       "      <td>SOMIIAW12AC46881C5</td>\n",
       "      <td>2</td>\n",
       "    </tr>\n",
       "    <tr>\n",
       "      <th>27150</th>\n",
       "      <td>c56b981eafc615e6bb6070afe5cf92afe3256231</td>\n",
       "      <td>SOUBZPQ12A8C13629D</td>\n",
       "      <td>1</td>\n",
       "    </tr>\n",
       "    <tr>\n",
       "      <th>58431</th>\n",
       "      <td>c56b981eafc615e6bb6070afe5cf92afe3256231</td>\n",
       "      <td>SOGNIXD12A8C1341C3</td>\n",
       "      <td>1</td>\n",
       "    </tr>\n",
       "    <tr>\n",
       "      <th>82438</th>\n",
       "      <td>c56b981eafc615e6bb6070afe5cf92afe3256231</td>\n",
       "      <td>SODCIML12A6D4FADF9</td>\n",
       "      <td>1</td>\n",
       "    </tr>\n",
       "  </tbody>\n",
       "</table>\n",
       "</div>"
      ],
      "text/plain": [
       "                                        User-Id             Song-Id  \\\n",
       "13498  c56b981eafc615e6bb6070afe5cf92afe3256231  SOVHFMK12A679AE565   \n",
       "38157  c56b981eafc615e6bb6070afe5cf92afe3256231  SOSLZXV12A8C1354C9   \n",
       "67444  c56b981eafc615e6bb6070afe5cf92afe3256231  SOVRXWW12A6D4F74D3   \n",
       "83401  c56b981eafc615e6bb6070afe5cf92afe3256231  SOZYUXF12A6701F7B9   \n",
       "12112  c56b981eafc615e6bb6070afe5cf92afe3256231  SOULUTZ12A8C13FCDB   \n",
       "18104  c56b981eafc615e6bb6070afe5cf92afe3256231  SOXLJXH12A8C13D903   \n",
       "18255  c56b981eafc615e6bb6070afe5cf92afe3256231  SOBOAFP12A8C131F36   \n",
       "33910  c56b981eafc615e6bb6070afe5cf92afe3256231  SOFGQNB12A6D4F74F8   \n",
       "36441  c56b981eafc615e6bb6070afe5cf92afe3256231  SOMXQGH12A8C13CBEF   \n",
       "43898  c56b981eafc615e6bb6070afe5cf92afe3256231  SOJDJWL12AB0186A16   \n",
       "44440  c56b981eafc615e6bb6070afe5cf92afe3256231  SORJLZX12A5891F7A5   \n",
       "80874  c56b981eafc615e6bb6070afe5cf92afe3256231  SOMIIAW12AC46881C5   \n",
       "27150  c56b981eafc615e6bb6070afe5cf92afe3256231  SOUBZPQ12A8C13629D   \n",
       "58431  c56b981eafc615e6bb6070afe5cf92afe3256231  SOGNIXD12A8C1341C3   \n",
       "82438  c56b981eafc615e6bb6070afe5cf92afe3256231  SODCIML12A6D4FADF9   \n",
       "\n",
       "       ListenCount  \n",
       "13498            4  \n",
       "38157            4  \n",
       "67444            3  \n",
       "83401            3  \n",
       "12112            2  \n",
       "18104            2  \n",
       "18255            2  \n",
       "33910            2  \n",
       "36441            2  \n",
       "43898            2  \n",
       "44440            2  \n",
       "80874            2  \n",
       "27150            1  \n",
       "58431            1  \n",
       "82438            1  "
      ]
     },
     "execution_count": 70,
     "metadata": {},
     "output_type": "execute_result"
    }
   ],
   "source": [
    "TestListen.head(20)"
   ]
  },
  {
   "cell_type": "code",
   "execution_count": null,
   "metadata": {},
   "outputs": [],
   "source": []
  },
  {
   "cell_type": "code",
   "execution_count": null,
   "metadata": {},
   "outputs": [],
   "source": []
  },
  {
   "cell_type": "code",
   "execution_count": null,
   "metadata": {},
   "outputs": [],
   "source": []
  }
 ],
 "metadata": {
  "kernelspec": {
   "display_name": "Python 3",
   "language": "python",
   "name": "python3"
  },
  "language_info": {
   "codemirror_mode": {
    "name": "ipython",
    "version": 3
   },
   "file_extension": ".py",
   "mimetype": "text/x-python",
   "name": "python",
   "nbconvert_exporter": "python",
   "pygments_lexer": "ipython3",
   "version": "3.7.3"
  }
 },
 "nbformat": 4,
 "nbformat_minor": 2
}
