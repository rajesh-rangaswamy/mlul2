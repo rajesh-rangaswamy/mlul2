{
 "cells": [
  {
   "cell_type": "code",
   "execution_count": 1,
   "metadata": {},
   "outputs": [],
   "source": [
    "import pandas as pd"
   ]
  },
  {
   "cell_type": "code",
   "execution_count": 2,
   "metadata": {},
   "outputs": [],
   "source": [
    "df_triplets = pd.read_csv(\"kaggle_visible_evaluation_triplets.txt\",sep=\"\\t\")\n",
    "df_songs = pd.read_csv(\"kaggle_songs.txt\",sep=\"\\t\")\n",
    "df_users = pd.read_csv(\"kaggle_users.txt\",sep=\"\\t\")\n",
    "df_songmeta = pd.read_csv(\"song_data.csv\")"
   ]
  },
  {
   "cell_type": "code",
   "execution_count": 3,
   "metadata": {},
   "outputs": [],
   "source": [
    "df_triplets.columns = ['userid','songid','playcount']\n",
    "df_songs.columns = [\"songid\"]\n",
    "df_users.columns = ['userid']\n",
    "df_songmeta.columns = ['songid','title','release','artist_name','year']"
   ]
  },
  {
   "cell_type": "code",
   "execution_count": 4,
   "metadata": {},
   "outputs": [
    {
     "name": "stdout",
     "output_type": "stream",
     "text": [
      "                                     userid              songid  playcount\n",
      "0  fd50c4007b68a3737fe052d5a4f78ce8aa117f3d  SOEGIYH12A6D4FC0E3          1\n",
      "1  fd50c4007b68a3737fe052d5a4f78ce8aa117f3d  SOFLJQZ12A6D4FADA6          1\n",
      "2  fd50c4007b68a3737fe052d5a4f78ce8aa117f3d  SOHTKMO12AB01843B0          1\n",
      "\n",
      "\n",
      "                 songid\n",
      "0  SOAAADE12A6D4F80CC 2\n",
      "1  SOAAADF12A8C13DF62 3\n",
      "2  SOAAADZ12A8C1334FB 4\n",
      "\n",
      "\n",
      "                                     userid\n",
      "0  d7083f5e1d50c264277d624340edaaf3dc16095b\n",
      "1  d68dc6fc25248234590d7668a11e3335534ae4b4\n",
      "2  9be82340a8b5ef32357fe5af957ccd54736ece95\n",
      "\n",
      "\n",
      "               songid              title                release  \\\n",
      "0  SOQMMHC12AB0180CB8       Silent Night  Monster Ballads X-Mas   \n",
      "1  SOVFVAK12A8C1350D9        Tanssi vaan            Karkuteillä   \n",
      "2  SOGTUKN12AB017F4F1  No One Could Ever                 Butter   \n",
      "\n",
      "        artist_name  year  \n",
      "0  Faster Pussy cat  2003  \n",
      "1  Karkkiautomaatti  1995  \n",
      "2    Hudson Mohawke  2006  \n"
     ]
    }
   ],
   "source": [
    "print(df_triplets.head(3))\n",
    "print(\"\\n\")\n",
    "print(df_songs.head(3))\n",
    "print(\"\\n\")\n",
    "print(df_users.head(3))\n",
    "print(\"\\n\")\n",
    "print(df_songmeta.head(3))"
   ]
  },
  {
   "cell_type": "code",
   "execution_count": 5,
   "metadata": {},
   "outputs": [],
   "source": [
    "df_merge = pd.merge(df_triplets,df_songmeta,on=\"songid\",how=\"left\")"
   ]
  },
  {
   "cell_type": "code",
   "execution_count": 6,
   "metadata": {},
   "outputs": [
    {
     "name": "stdout",
     "output_type": "stream",
     "text": [
      "                                     userid              songid  playcount  \\\n",
      "0  fd50c4007b68a3737fe052d5a4f78ce8aa117f3d  SOEGIYH12A6D4FC0E3          1   \n",
      "1  fd50c4007b68a3737fe052d5a4f78ce8aa117f3d  SOFLJQZ12A6D4FADA6          1   \n",
      "2  fd50c4007b68a3737fe052d5a4f78ce8aa117f3d  SOHTKMO12AB01843B0          1   \n",
      "3  fd50c4007b68a3737fe052d5a4f78ce8aa117f3d  SODQZCY12A6D4F9D11          1   \n",
      "4  fd50c4007b68a3737fe052d5a4f78ce8aa117f3d  SOXLOQG12AF72A2D55          1   \n",
      "\n",
      "                                               title  \\\n",
      "0  Horn Concerto No. 4 in E flat K495: II. Romanc...   \n",
      "1                                           Tive Sim   \n",
      "2  Catch You Baby (Steve Pitron & Max Sanna Radio...   \n",
      "3                                        El Cuatrero   \n",
      "4                      Unite (2009 Digital Remaster)   \n",
      "\n",
      "                            release  \\\n",
      "0   Mozart - Eine kleine Nachtmusik   \n",
      "1                  Nova Bis-Cartola   \n",
      "2                    Catch You Baby   \n",
      "3       From Argentina To The World   \n",
      "4  Hello Nasty (Remastered Edition)   \n",
      "\n",
      "                                         artist_name  year  \n",
      "0  Barry Tuckwell/Academy of St Martin-in-the-Fie...     0  \n",
      "1                                            Cartola  1974  \n",
      "2                                      Lonnie Gordon     0  \n",
      "3                                        Miguel Calo  2001  \n",
      "4                                       Beastie Boys     0  \n"
     ]
    }
   ],
   "source": [
    "print(df_merge.head())"
   ]
  },
  {
   "cell_type": "code",
   "execution_count": 15,
   "metadata": {},
   "outputs": [
    {
     "data": {
      "text/plain": [
       "1491951"
      ]
     },
     "execution_count": 15,
     "metadata": {},
     "output_type": "execute_result"
    }
   ],
   "source": [
    "len(df_merge)"
   ]
  },
  {
   "cell_type": "code",
   "execution_count": 36,
   "metadata": {},
   "outputs": [],
   "source": [
    "df_subset = df_merge[df_merge.playcount >= 25]"
   ]
  },
  {
   "cell_type": "code",
   "execution_count": 40,
   "metadata": {},
   "outputs": [
    {
     "name": "stdout",
     "output_type": "stream",
     "text": [
      "['userid' 'songid' 'playcount' 'title' 'release' 'artist_name' 'year']\n",
      "(19662, 7)\n"
     ]
    }
   ],
   "source": [
    "print(df_subset.columns.values)\n",
    "print(df_subset.shape)"
   ]
  },
  {
   "cell_type": "code",
   "execution_count": 47,
   "metadata": {},
   "outputs": [
    {
     "data": {
      "text/plain": [
       "10023"
      ]
     },
     "execution_count": 47,
     "metadata": {},
     "output_type": "execute_result"
    }
   ],
   "source": [
    "len(df_subset.songid.unique())"
   ]
  },
  {
   "cell_type": "code",
   "execution_count": null,
   "metadata": {},
   "outputs": [],
   "source": []
  }
 ],
 "metadata": {
  "kernelspec": {
   "display_name": "Python 3",
   "language": "python",
   "name": "python3"
  },
  "language_info": {
   "codemirror_mode": {
    "name": "ipython",
    "version": 3
   },
   "file_extension": ".py",
   "mimetype": "text/x-python",
   "name": "python",
   "nbconvert_exporter": "python",
   "pygments_lexer": "ipython3",
   "version": "3.7.3"
  }
 },
 "nbformat": 4,
 "nbformat_minor": 2
}
